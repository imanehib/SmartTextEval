{
 "cells": [
  {
   "cell_type": "code",
   "execution_count": null,
   "id": "ffc196d4",
   "metadata": {},
   "outputs": [],
   "source": [
    "from openai import OpenAI \n",
    "import os\n",
    "\n",
    "\n",
    "client = OpenAI()"
   ]
  },
  {
   "cell_type": "code",
   "execution_count": null,
   "id": "e59fce4f",
   "metadata": {},
   "outputs": [],
   "source": [
    "# on repart des taxonomies que l'on connaît à savoir : \n",
    "# une approche simple binaire : surface ou sémantique\n",
    "# une approche plus complexe avec : \n",
    "# - "
   ]
  },
  {
   "cell_type": "code",
   "execution_count": 2,
   "id": "6124fbfa",
   "metadata": {},
   "outputs": [],
   "source": [
    "assistant_first = client.beta.assistants.create(\n",
    "  name=\"Revision Classifier\",\n",
    "  instructions=\"\"\"You are evaluating text revisions by comparing different states of a text (before and after a revision).\n",
    "\n",
    "**Contextual Awareness:**  \n",
    "You are evaluating a *sequence* of revisions within the same essay. It is essential to consider earlier parts of the essay to accurately determine the purpose of a revision. Always reason based on the surrounding context and how the revision fits into the overall structure.\n",
    "\n",
    "\n",
    "For each revision of the text do this classification task : \n",
    "**Classification Task:**  \n",
    "Provide a step-by-step reasoning (Chain of Thought) before concluding with one of the following categories for each text given as input:\n",
    "\n",
    "- **Surface**: Revisions that do not change the deep meaning of the text, such as spelling or grammar corrections, organisational changes or minor stylistic changes. \n",
    "      - Before: \"Technology is the nourishment of civilizations.\"  \n",
    "      - After: \"Technology is the backbone of civilizations.\" \n",
    "\n",
    "- **Meaning-oriented**: Revisions that change the meaning of the text, such as adding or removing information, changing the tone, or altering the structure of the text.\n",
    "      - Before: \"The sun rises in the east.\"  \n",
    "      - After: \"The sun rises in the west.\"\n",
    "\n",
    "\n",
    "**Output Format:**\n",
    "Your response **must** follow this exact JSON format:  \n",
    "```json\n",
    "{\n",
    "      \"classification\": \"category chosen\",\n",
    "      \"reasoning\": \"<Step-by-step explanation of the classification>\"\n",
    "      \n",
    "}\"\"\",\n",
    "  tools=[],\n",
    "  model=\"gpt-4o\",\n",
    ")"
   ]
  },
  {
   "cell_type": "code",
   "execution_count": 3,
   "id": "0f35a741",
   "metadata": {},
   "outputs": [
    {
     "name": "stdout",
     "output_type": "stream",
     "text": [
      "Name: Revision Classifier, ID: asst_67wsBtBez3b89q7vK8K2LxXv\n",
      "Name: rubric6bis, ID: asst_5Dq6ECqZ7rASmiTZCLgCMv6j\n",
      "Name: rubric5bis, ID: asst_OJNmCVtXaZ0SOEAZDtI7VwAd\n",
      "Name: rubric8, ID: asst_I7704Mi3unLlfvNbFik7Aldo\n",
      "Name: rubric7, ID: asst_cUEM34t44HtP35VY4QTi8zKU\n",
      "Name: rubric6, ID: asst_QyPgYCdQgAcjPN3lEVlfgrW1\n",
      "Name: rubric5, ID: asst_7Rs55cEb6zBdotkpwvnRTIuG\n",
      "Name: rubric4, ID: asst_YotyjWSrIayisAHYM0AaaMEB\n",
      "Name: rubric3, ID: asst_kzkSwsz3Q3fk1TOWAx8yENtd\n",
      "Name: rubric2, ID: asst_nt5dRG6ogrqSodswfBavbLUV\n",
      "Name: rubric1, ID: asst_1vwsRBxNUD1P5b691h9zUPk7\n",
      "Name: Coarse-improved, ID: asst_4cAlk6TSYVZo0KkcMjG1LPqv\n",
      "Name: Coarse, ID: asst_QNOFKzWt3Q1f3rz7uhRbKgIY\n",
      "Name: Task3, ID: asst_4PmU9QH2pdZ6X4cKwSJ11gvB\n",
      "Name: Task1-natural, ID: asst_W7Ib785lunH1iJkYcGOHyUY4\n",
      "Name: Task1-natural, ID: asst_ZmQ5PUrOxEv8nxXopr38eTJQ\n",
      "Name: Task1-natural, ID: asst_f4CkMSqCMbHnLdhLjp4YT5aZ\n",
      "Name: Task1-natural, ID: asst_nGoiQLgu7QJVhjn3WTkMd2RH\n",
      "Name: Task1-example, ID: asst_3P0C4RBmh950D9HeRhmT76OG\n",
      "Name: Task1, ID: asst_d97fkefEEJhsx6vCQSFUtEe6\n"
     ]
    }
   ],
   "source": [
    "# List all assistants\n",
    "assistants = client.beta.assistants.list()\n",
    "\n",
    "# Print their IDs\n",
    "for assistant in assistants.data:\n",
    "    print(f\"Name: {assistant.name}, ID: {assistant.id}\")"
   ]
  }
 ],
 "metadata": {
  "kernelspec": {
   "display_name": "base",
   "language": "python",
   "name": "python3"
  },
  "language_info": {
   "codemirror_mode": {
    "name": "ipython",
    "version": 3
   },
   "file_extension": ".py",
   "mimetype": "text/x-python",
   "name": "python",
   "nbconvert_exporter": "python",
   "pygments_lexer": "ipython3",
   "version": "3.10.9"
  }
 },
 "nbformat": 4,
 "nbformat_minor": 5
}
